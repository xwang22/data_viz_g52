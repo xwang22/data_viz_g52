{
 "cells": [
  {
   "cell_type": "code",
   "execution_count": null,
   "id": "c7923539-5945-42d1-969c-2f8a0936591a",
   "metadata": {},
   "outputs": [],
   "source": [
    "import pandas as pd"
   ]
  },
  {
   "cell_type": "code",
   "execution_count": null,
   "id": "8a28ef04-41a7-4b35-aa8e-ce1997f412a7",
   "metadata": {},
   "outputs": [],
   "source": [
    "#orders_url = 'https://raw.githubusercontent.com/JannesPeeters/DEAD/main/data/orders.csv'\n",
    "#products_url = 'https://raw.githubusercontent.com/JannesPeeters/DEAD/main/data/products.csv'\n",
    "#customers_url = 'https://raw.githubusercontent.com/JannesPeeters/DEAD/main/data/customers.csv'\n",
    "#regions_url = 'https://raw.githubusercontent.com/JannesPeeters/DEAD/main/data/regions.csv'\n",
    "\n",
    "#orders = pd.read_csv(orders_url)\n",
    "#products = pd.read_csv(products_url)\n",
    "#customers = pd.read_csv(customers_url)\n",
    "#regions = pd.read_csv(regions_url)\n",
    "\n",
    "# directly read csv seems to be faster\n",
    "orders = pd.read_csv('data/orders.csv')\n",
    "products = pd.read_csv('data/products.csv')\n",
    "customers = pd.read_csv('data/customers.csv')\n",
    "regions = pd.read_csv('data/regions.csv')"
   ]
  },
  {
   "cell_type": "code",
   "execution_count": null,
   "id": "33239e14-1f75-41d2-b971-ed683d928a2c",
   "metadata": {},
   "outputs": [],
   "source": [
    "#products.Type.unique()"
   ]
  },
  {
   "cell_type": "code",
   "execution_count": null,
   "id": "6f5aa0b7-ed28-4b36-b3eb-22cce210a761",
   "metadata": {},
   "outputs": [],
   "source": [
    "#customers['Key Account'].unique()"
   ]
  },
  {
   "cell_type": "code",
   "execution_count": null,
   "id": "9b1e5633-72e9-44c1-8bd1-0422bb107f4d",
   "metadata": {},
   "outputs": [],
   "source": [
    "# Splitting Orders Table by Products\n",
    "orders[['Products_split']] = orders[['Products']].apply(lambda x: x.str.split(';'))\n",
    "orders[['productsIDs_split', 'Quantities_splits', 'ProductPricesInCP_split']] = orders[['productsIDs', 'Quantities', 'ProductPricesInCP']].apply(lambda x: x.str.split(','))\n",
    "\n",
    "orders = orders.explode(['Products_split','productsIDs_split', 'Quantities_splits', 'ProductPricesInCP_split'])\n",
    "orders.drop(['Products','productsIDs', 'Quantities', 'ProductPricesInCP'],axis=1,inplace=True)\n",
    "\n",
    "orders[['productsIDs_split', 'Quantities_splits']] = orders[['productsIDs_split', 'Quantities_splits']] .astype(int)\n",
    "orders['ProductPricesInCP_split'] = orders['ProductPricesInCP_split'] .astype(float)\n",
    "orders['OrderDate'] = pd.to_datetime(orders['OrderDate'])\n",
    "orders['DeliveryDate'] = pd.to_datetime(orders['DeliveryDate'])"
   ]
  },
  {
   "cell_type": "code",
   "execution_count": null,
   "id": "2ee97fc3-680c-4722-8ec4-a89ef5e83478",
   "metadata": {},
   "outputs": [],
   "source": [
    "# Join all other tables\n",
    "\n",
    "combine = orders.merge(products, left_on ='productsIDs_split', right_on = 'product_code', how = 'left')\\\n",
    "                .merge(customers.drop(['Territory'],axis=1), left_on ='CustomerID', right_on = 'Account Code', how = 'left')\\\n",
    "                .merge(regions, on = 'Territory', how = 'left')"
   ]
  },
  {
   "cell_type": "code",
   "execution_count": null,
   "id": "38c93881-2ee6-4ac7-9471-57151f36e7be",
   "metadata": {},
   "outputs": [],
   "source": [
    "combine.shape"
   ]
  },
  {
   "cell_type": "code",
   "execution_count": null,
   "id": "24088d94-c0a8-4c08-ae4a-57bee1082064",
   "metadata": {},
   "outputs": [],
   "source": [
    "pd.set_option('display.max_columns', None)\n",
    "combine.head()"
   ]
  },
  {
   "cell_type": "code",
   "execution_count": null,
   "id": "b37c3c7e-2d60-47bb-922a-5df2ef987244",
   "metadata": {},
   "outputs": [],
   "source": [
    "combine.to_csv('orders_merge.csv',index=False)\n",
    "combine.to_json('orders_merge.json', orient='records',index=False)"
   ]
  }
 ],
 "metadata": {
  "kernelspec": {
   "display_name": "Python 3 (ipykernel)",
   "language": "python",
   "name": "python3"
  },
  "language_info": {
   "codemirror_mode": {
    "name": "ipython",
    "version": 3
   },
   "file_extension": ".py",
   "mimetype": "text/x-python",
   "name": "python",
   "nbconvert_exporter": "python",
   "pygments_lexer": "ipython3",
   "version": "3.9.5"
  }
 },
 "nbformat": 4,
 "nbformat_minor": 5
}
