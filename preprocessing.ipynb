{
 "cells": [
  {
   "cell_type": "markdown",
   "id": "65425a70-bee8-4475-bd82-73ed70eba536",
   "metadata": {},
   "source": [
    "# Import Data"
   ]
  },
  {
   "cell_type": "code",
   "execution_count": 1,
   "id": "c7923539-5945-42d1-969c-2f8a0936591a",
   "metadata": {},
   "outputs": [],
   "source": [
    "import pandas as pd"
   ]
  },
  {
   "cell_type": "code",
   "execution_count": 2,
   "id": "8a28ef04-41a7-4b35-aa8e-ce1997f412a7",
   "metadata": {},
   "outputs": [],
   "source": [
    "#orders_url = 'https://raw.githubusercontent.com/JannesPeeters/DEAD/main/data/orders.csv'\n",
    "#products_url = 'https://raw.githubusercontent.com/JannesPeeters/DEAD/main/data/products.csv'\n",
    "#customers_url = 'https://raw.githubusercontent.com/JannesPeeters/DEAD/main/data/customers.csv'\n",
    "#regions_url = 'https://raw.githubusercontent.com/JannesPeeters/DEAD/main/data/regions.csv'\n",
    "\n",
    "#orders = pd.read_csv(orders_url)\n",
    "#products = pd.read_csv(products_url)\n",
    "#customers = pd.read_csv(customers_url)\n",
    "#regions = pd.read_csv(regions_url)\n",
    "\n",
    "# directly read csv seems to be faster\n",
    "orders = pd.read_csv('../DEAD/data/orders.csv')\n",
    "products = pd.read_csv('../DEAD/data/products.csv')\n",
    "customers = pd.read_csv('../DEAD/data/customers.csv')\n",
    "regions = pd.read_csv('../DEAD/data/regions.csv')"
   ]
  },
  {
   "cell_type": "code",
   "execution_count": 3,
   "id": "33239e14-1f75-41d2-b971-ed683d928a2c",
   "metadata": {},
   "outputs": [
    {
     "data": {
      "text/plain": [
       "array(['ADVENTURING EQUIPMENT', 'TOOLS & KITS', 'MUSICAL INSTRUMENT',\n",
       "       'POTIONS & SCROLLS', 'ARMS & ARMOUR', 'ANIMALS & TRANSPORTATION',\n",
       "       'JEWELRY', 'SUMMONING DEVICE'], dtype=object)"
      ]
     },
     "execution_count": 3,
     "metadata": {},
     "output_type": "execute_result"
    }
   ],
   "source": [
    "products.Type.unique()"
   ]
  },
  {
   "cell_type": "code",
   "execution_count": 4,
   "id": "6f5aa0b7-ed28-4b36-b3eb-22cce210a761",
   "metadata": {},
   "outputs": [
    {
     "data": {
      "text/plain": [
       "array(['Private Buyer', 'No Key Account', 'Bardic College Union',\n",
       "       'House of Wonders', 'Nobility', \"Sprite's & Spirits\", 'Zhentarim',\n",
       "       'Black Phoenix', \"Bottle's Up\", 'Clothes Contact',\n",
       "       'Lionshield Coster', \"Night's Knights\", 'Order of the Gauntlet',\n",
       "       'Three Wishes'], dtype=object)"
      ]
     },
     "execution_count": 4,
     "metadata": {},
     "output_type": "execute_result"
    }
   ],
   "source": [
    "customers['Key Account'].unique()"
   ]
  },
  {
   "cell_type": "code",
   "execution_count": 5,
   "id": "53404e88-f883-4f82-a4d0-dc648ec7ed65",
   "metadata": {},
   "outputs": [
    {
     "data": {
      "text/plain": [
       "array(['Thayan Empire', 'Amnian Empire', 'Waterdhavian Empire',\n",
       "       'Purple Dragon Empire', 'Halruaan Empire', 'Calim Empire',\n",
       "       'New Neverwinter Empire', 'United Moonshae Empire',\n",
       "       'Bloodlands Empire', 'None Empire', 'Dwarven Empire',\n",
       "       'Southern Empire', 'Eastern Empire', 'Old Empire',\n",
       "       'Western Empire'], dtype=object)"
      ]
     },
     "execution_count": 5,
     "metadata": {},
     "output_type": "execute_result"
    }
   ],
   "source": [
    "regions['Region'].unique()"
   ]
  },
  {
   "cell_type": "markdown",
   "id": "469fc7b1-aa65-4845-a0c6-e8f1427e393b",
   "metadata": {},
   "source": [
    "# Merge All Tables"
   ]
  },
  {
   "cell_type": "code",
   "execution_count": 6,
   "id": "9b1e5633-72e9-44c1-8bd1-0422bb107f4d",
   "metadata": {},
   "outputs": [],
   "source": [
    "# Splitting Orders Table by Products\n",
    "orders[['Products_split']] = orders[['Products']].apply(lambda x: x.str.split(';'))\n",
    "orders[['productsIDs_split', 'Quantities_splits', 'ProductPricesInCP_split']] = orders[['productsIDs', 'Quantities', 'ProductPricesInCP']].apply(lambda x: x.str.split(','))\n",
    "\n",
    "orders = orders.explode(['Products_split','productsIDs_split', 'Quantities_splits', 'ProductPricesInCP_split'])\n",
    "orders.drop(['Products','productsIDs', 'Quantities', 'ProductPricesInCP'],axis=1,inplace=True)\n",
    "\n",
    "orders[['productsIDs_split', 'Quantities_splits']] = orders[['productsIDs_split', 'Quantities_splits']] .astype(int)\n",
    "orders['ProductPricesInCP_split'] = orders['ProductPricesInCP_split'] .astype(float)\n",
    "orders['OrderDate'] = pd.to_datetime(orders['OrderDate'])\n",
    "orders['DeliveryDate'] = pd.to_datetime(orders['DeliveryDate'])"
   ]
  },
  {
   "cell_type": "code",
   "execution_count": 7,
   "id": "2ee97fc3-680c-4722-8ec4-a89ef5e83478",
   "metadata": {},
   "outputs": [],
   "source": [
    "# Join all other tables\n",
    "\n",
    "combine = orders.merge(products, left_on ='productsIDs_split', right_on = 'product_code', how = 'left')\\\n",
    "                .merge(customers.drop(['Territory'],axis=1), left_on ='CustomerID', right_on = 'Account Code', how = 'left')\\\n",
    "                .merge(regions, on = 'Territory', how = 'left')"
   ]
  },
  {
   "cell_type": "code",
   "execution_count": 8,
   "id": "38c93881-2ee6-4ac7-9471-57151f36e7be",
   "metadata": {},
   "outputs": [
    {
     "data": {
      "text/plain": [
       "(878427, 30)"
      ]
     },
     "execution_count": 8,
     "metadata": {},
     "output_type": "execute_result"
    }
   ],
   "source": [
    "combine.shape"
   ]
  },
  {
   "cell_type": "code",
   "execution_count": 9,
   "id": "24088d94-c0a8-4c08-ae4a-57bee1082064",
   "metadata": {},
   "outputs": [
    {
     "data": {
      "text/html": [
       "<div>\n",
       "<style scoped>\n",
       "    .dataframe tbody tr th:only-of-type {\n",
       "        vertical-align: middle;\n",
       "    }\n",
       "\n",
       "    .dataframe tbody tr th {\n",
       "        vertical-align: top;\n",
       "    }\n",
       "\n",
       "    .dataframe thead th {\n",
       "        text-align: right;\n",
       "    }\n",
       "</style>\n",
       "<table border=\"1\" class=\"dataframe\">\n",
       "  <thead>\n",
       "    <tr style=\"text-align: right;\">\n",
       "      <th></th>\n",
       "      <th>OrderID</th>\n",
       "      <th>OrderDate</th>\n",
       "      <th>DeliveryDate</th>\n",
       "      <th>CustomerID</th>\n",
       "      <th>Territory</th>\n",
       "      <th>CartPriceInCP</th>\n",
       "      <th>CartPrice</th>\n",
       "      <th>Products_split</th>\n",
       "      <th>productsIDs_split</th>\n",
       "      <th>Quantities_splits</th>\n",
       "      <th>ProductPricesInCP_split</th>\n",
       "      <th>product_code</th>\n",
       "      <th>Business Unit</th>\n",
       "      <th>Type</th>\n",
       "      <th>Products Business Line Leader</th>\n",
       "      <th>Subtype</th>\n",
       "      <th>Product Name</th>\n",
       "      <th>Brand Name</th>\n",
       "      <th>Brand Manager</th>\n",
       "      <th>Account Code</th>\n",
       "      <th>Account Type</th>\n",
       "      <th>Key Account</th>\n",
       "      <th>Key Account Manager</th>\n",
       "      <th>Account Name</th>\n",
       "      <th>Account Manager</th>\n",
       "      <th>Nation</th>\n",
       "      <th>Region</th>\n",
       "      <th>Regional Manager</th>\n",
       "      <th>Area</th>\n",
       "      <th>Area Manager</th>\n",
       "    </tr>\n",
       "  </thead>\n",
       "  <tbody>\n",
       "    <tr>\n",
       "      <th>0</th>\n",
       "      <td>1</td>\n",
       "      <td>2019-01-01</td>\n",
       "      <td>2019-01-11</td>\n",
       "      <td>54295995</td>\n",
       "      <td>Bloodstone (Damara)</td>\n",
       "      <td>10285</td>\n",
       "      <td>102  GP;  8  SP;  5  CP</td>\n",
       "      <td>Blood of the Lycanthrope Antidote</td>\n",
       "      <td>12436254</td>\n",
       "      <td>8</td>\n",
       "      <td>1128.0</td>\n",
       "      <td>12436254</td>\n",
       "      <td>ADVENTURING</td>\n",
       "      <td>POTIONS &amp; SCROLLS</td>\n",
       "      <td>Bruno Notlot</td>\n",
       "      <td>POTIONS &amp; ALCHEMY</td>\n",
       "      <td>Blood of the Lycanthrope Antidote</td>\n",
       "      <td>MYTHAL</td>\n",
       "      <td>Arentian Mythrandius</td>\n",
       "      <td>54295995</td>\n",
       "      <td>No Key Account</td>\n",
       "      <td>No Key Account</td>\n",
       "      <td>No Key Account Manager</td>\n",
       "      <td>Capucine's Steel Bloodstone (Damara)</td>\n",
       "      <td>Lauren Masiak</td>\n",
       "      <td>Damara</td>\n",
       "      <td>Bloodlands Empire</td>\n",
       "      <td>Magdalena Fracci</td>\n",
       "      <td>North</td>\n",
       "      <td>Christine Moore</td>\n",
       "    </tr>\n",
       "    <tr>\n",
       "      <th>1</th>\n",
       "      <td>1</td>\n",
       "      <td>2019-01-01</td>\n",
       "      <td>2019-01-11</td>\n",
       "      <td>54295995</td>\n",
       "      <td>Bloodstone (Damara)</td>\n",
       "      <td>10285</td>\n",
       "      <td>102  GP;  8  SP;  5  CP</td>\n",
       "      <td>Blanket</td>\n",
       "      <td>24180928</td>\n",
       "      <td>4</td>\n",
       "      <td>2728.0</td>\n",
       "      <td>24180928</td>\n",
       "      <td>ADVENTURING</td>\n",
       "      <td>ADVENTURING EQUIPMENT</td>\n",
       "      <td>Bubbles</td>\n",
       "      <td>SURVIVAL &amp; WILDERNESS</td>\n",
       "      <td>Blanket</td>\n",
       "      <td>U.N.N.</td>\n",
       "      <td>Ruralion Baeneduren</td>\n",
       "      <td>54295995</td>\n",
       "      <td>No Key Account</td>\n",
       "      <td>No Key Account</td>\n",
       "      <td>No Key Account Manager</td>\n",
       "      <td>Capucine's Steel Bloodstone (Damara)</td>\n",
       "      <td>Lauren Masiak</td>\n",
       "      <td>Damara</td>\n",
       "      <td>Bloodlands Empire</td>\n",
       "      <td>Magdalena Fracci</td>\n",
       "      <td>North</td>\n",
       "      <td>Christine Moore</td>\n",
       "    </tr>\n",
       "    <tr>\n",
       "      <th>2</th>\n",
       "      <td>1</td>\n",
       "      <td>2019-01-01</td>\n",
       "      <td>2019-01-11</td>\n",
       "      <td>54295995</td>\n",
       "      <td>Bloodstone (Damara)</td>\n",
       "      <td>10285</td>\n",
       "      <td>102  GP;  8  SP;  5  CP</td>\n",
       "      <td>Robe of Serpents</td>\n",
       "      <td>97076903</td>\n",
       "      <td>9</td>\n",
       "      <td>5517.0</td>\n",
       "      <td>97076903</td>\n",
       "      <td>ADVENTURING</td>\n",
       "      <td>ADVENTURING EQUIPMENT</td>\n",
       "      <td>Bubbles</td>\n",
       "      <td>CLOAK</td>\n",
       "      <td>Robe of Serpents</td>\n",
       "      <td>U.N.N.</td>\n",
       "      <td>Ruralion Baeneduren</td>\n",
       "      <td>54295995</td>\n",
       "      <td>No Key Account</td>\n",
       "      <td>No Key Account</td>\n",
       "      <td>No Key Account Manager</td>\n",
       "      <td>Capucine's Steel Bloodstone (Damara)</td>\n",
       "      <td>Lauren Masiak</td>\n",
       "      <td>Damara</td>\n",
       "      <td>Bloodlands Empire</td>\n",
       "      <td>Magdalena Fracci</td>\n",
       "      <td>North</td>\n",
       "      <td>Christine Moore</td>\n",
       "    </tr>\n",
       "    <tr>\n",
       "      <th>3</th>\n",
       "      <td>1</td>\n",
       "      <td>2019-01-01</td>\n",
       "      <td>2019-01-11</td>\n",
       "      <td>54295995</td>\n",
       "      <td>Bloodstone (Damara)</td>\n",
       "      <td>10285</td>\n",
       "      <td>102  GP;  8  SP;  5  CP</td>\n",
       "      <td>Mirror, steel</td>\n",
       "      <td>33879927</td>\n",
       "      <td>3</td>\n",
       "      <td>912.0</td>\n",
       "      <td>33879927</td>\n",
       "      <td>ADVENTURING</td>\n",
       "      <td>TOOLS &amp; KITS</td>\n",
       "      <td>Kay Glimshine</td>\n",
       "      <td>TOOLS</td>\n",
       "      <td>Mirror, steel</td>\n",
       "      <td>RED CURTAIN</td>\n",
       "      <td>Siras Invictus</td>\n",
       "      <td>54295995</td>\n",
       "      <td>No Key Account</td>\n",
       "      <td>No Key Account</td>\n",
       "      <td>No Key Account Manager</td>\n",
       "      <td>Capucine's Steel Bloodstone (Damara)</td>\n",
       "      <td>Lauren Masiak</td>\n",
       "      <td>Damara</td>\n",
       "      <td>Bloodlands Empire</td>\n",
       "      <td>Magdalena Fracci</td>\n",
       "      <td>North</td>\n",
       "      <td>Christine Moore</td>\n",
       "    </tr>\n",
       "    <tr>\n",
       "      <th>4</th>\n",
       "      <td>2</td>\n",
       "      <td>2019-02-03</td>\n",
       "      <td>2019-02-05</td>\n",
       "      <td>30949079</td>\n",
       "      <td>Arrabar</td>\n",
       "      <td>1196</td>\n",
       "      <td>11  GP;  9  SP;  6  CP</td>\n",
       "      <td>Sword of Life Stealing</td>\n",
       "      <td>43737386</td>\n",
       "      <td>1</td>\n",
       "      <td>91.0</td>\n",
       "      <td>43737386</td>\n",
       "      <td>LUXURY SPECIALTIES</td>\n",
       "      <td>ARMS &amp; ARMOUR</td>\n",
       "      <td>T'avin T'soban</td>\n",
       "      <td>MARTIAL MELEE WEAPON</td>\n",
       "      <td>Sword of Life Stealing</td>\n",
       "      <td>ARCANTIC</td>\n",
       "      <td>Enthoril Murkywaters</td>\n",
       "      <td>30949079</td>\n",
       "      <td>Key Account</td>\n",
       "      <td>Clothes Contact</td>\n",
       "      <td>Asuma Bahamut</td>\n",
       "      <td>Clothes Contact Arrabar</td>\n",
       "      <td>NaN</td>\n",
       "      <td>Chondath</td>\n",
       "      <td>Calim Empire</td>\n",
       "      <td>Mitchell Brown</td>\n",
       "      <td>South</td>\n",
       "      <td>Cipriano Seidel</td>\n",
       "    </tr>\n",
       "  </tbody>\n",
       "</table>\n",
       "</div>"
      ],
      "text/plain": [
       "   OrderID  OrderDate DeliveryDate  CustomerID            Territory  \\\n",
       "0        1 2019-01-01   2019-01-11    54295995  Bloodstone (Damara)   \n",
       "1        1 2019-01-01   2019-01-11    54295995  Bloodstone (Damara)   \n",
       "2        1 2019-01-01   2019-01-11    54295995  Bloodstone (Damara)   \n",
       "3        1 2019-01-01   2019-01-11    54295995  Bloodstone (Damara)   \n",
       "4        2 2019-02-03   2019-02-05    30949079              Arrabar   \n",
       "\n",
       "   CartPriceInCP                CartPrice                     Products_split  \\\n",
       "0          10285  102  GP;  8  SP;  5  CP  Blood of the Lycanthrope Antidote   \n",
       "1          10285  102  GP;  8  SP;  5  CP                            Blanket   \n",
       "2          10285  102  GP;  8  SP;  5  CP                   Robe of Serpents   \n",
       "3          10285  102  GP;  8  SP;  5  CP                      Mirror, steel   \n",
       "4           1196   11  GP;  9  SP;  6  CP             Sword of Life Stealing   \n",
       "\n",
       "   productsIDs_split  Quantities_splits  ProductPricesInCP_split  \\\n",
       "0           12436254                  8                   1128.0   \n",
       "1           24180928                  4                   2728.0   \n",
       "2           97076903                  9                   5517.0   \n",
       "3           33879927                  3                    912.0   \n",
       "4           43737386                  1                     91.0   \n",
       "\n",
       "   product_code       Business Unit                   Type  \\\n",
       "0      12436254         ADVENTURING      POTIONS & SCROLLS   \n",
       "1      24180928         ADVENTURING  ADVENTURING EQUIPMENT   \n",
       "2      97076903         ADVENTURING  ADVENTURING EQUIPMENT   \n",
       "3      33879927         ADVENTURING           TOOLS & KITS   \n",
       "4      43737386  LUXURY SPECIALTIES          ARMS & ARMOUR   \n",
       "\n",
       "  Products Business Line Leader                Subtype  \\\n",
       "0                  Bruno Notlot      POTIONS & ALCHEMY   \n",
       "1                       Bubbles  SURVIVAL & WILDERNESS   \n",
       "2                       Bubbles                  CLOAK   \n",
       "3                 Kay Glimshine                  TOOLS   \n",
       "4                T'avin T'soban   MARTIAL MELEE WEAPON   \n",
       "\n",
       "                        Product Name   Brand Name         Brand Manager  \\\n",
       "0  Blood of the Lycanthrope Antidote       MYTHAL  Arentian Mythrandius   \n",
       "1                           Blanket        U.N.N.   Ruralion Baeneduren   \n",
       "2                   Robe of Serpents       U.N.N.   Ruralion Baeneduren   \n",
       "3                     Mirror, steel   RED CURTAIN        Siras Invictus   \n",
       "4             Sword of Life Stealing     ARCANTIC  Enthoril Murkywaters   \n",
       "\n",
       "   Account Code    Account Type      Key Account     Key Account Manager  \\\n",
       "0      54295995  No Key Account   No Key Account  No Key Account Manager   \n",
       "1      54295995  No Key Account   No Key Account  No Key Account Manager   \n",
       "2      54295995  No Key Account   No Key Account  No Key Account Manager   \n",
       "3      54295995  No Key Account   No Key Account  No Key Account Manager   \n",
       "4      30949079     Key Account  Clothes Contact           Asuma Bahamut   \n",
       "\n",
       "                           Account Name Account Manager    Nation  \\\n",
       "0  Capucine's Steel Bloodstone (Damara)   Lauren Masiak    Damara   \n",
       "1  Capucine's Steel Bloodstone (Damara)   Lauren Masiak    Damara   \n",
       "2  Capucine's Steel Bloodstone (Damara)   Lauren Masiak    Damara   \n",
       "3  Capucine's Steel Bloodstone (Damara)   Lauren Masiak    Damara   \n",
       "4               Clothes Contact Arrabar             NaN  Chondath   \n",
       "\n",
       "              Region  Regional Manager   Area     Area Manager  \n",
       "0  Bloodlands Empire  Magdalena Fracci  North  Christine Moore  \n",
       "1  Bloodlands Empire  Magdalena Fracci  North  Christine Moore  \n",
       "2  Bloodlands Empire  Magdalena Fracci  North  Christine Moore  \n",
       "3  Bloodlands Empire  Magdalena Fracci  North  Christine Moore  \n",
       "4       Calim Empire    Mitchell Brown  South  Cipriano Seidel  "
      ]
     },
     "execution_count": 9,
     "metadata": {},
     "output_type": "execute_result"
    }
   ],
   "source": [
    "pd.set_option('display.max_columns', None)\n",
    "combine.head()"
   ]
  },
  {
   "cell_type": "code",
   "execution_count": 10,
   "id": "b37c3c7e-2d60-47bb-922a-5df2ef987244",
   "metadata": {},
   "outputs": [],
   "source": [
    "combine.to_csv('orders_merge.csv',index=False)\n",
    "combine.to_json('orders_merge.json', orient='records',index=False)"
   ]
  },
  {
   "cell_type": "markdown",
   "id": "17c92a95-bbf9-4bb1-adf8-d752ad01c643",
   "metadata": {},
   "source": [
    "# Special Preparation for Scatterplot V1"
   ]
  },
  {
   "cell_type": "code",
   "execution_count": 11,
   "id": "100e3d14-7568-498f-aa69-0abef4eb0800",
   "metadata": {},
   "outputs": [],
   "source": [
    "# special preprocessing for graph AM_5"
   ]
  },
  {
   "cell_type": "code",
   "execution_count": 12,
   "id": "fceafc3f-17c6-40a4-8653-fdc69d120c02",
   "metadata": {},
   "outputs": [],
   "source": [
    "def preprocess_scatter(combine, cols = ['Type', 'Key Account']):\n",
    "    \n",
    "    # create year\n",
    "    combine['order_year']=combine['OrderDate'].dt.year\n",
    "    cols.append(\"order_year\")\n",
    "\n",
    "    # select relevant columns\n",
    "    all_cols = cols + [\"ProductPricesInCP_split\"]\n",
    "    data_viz1 = combine[all_cols]\n",
    "    \n",
    "    # group by year and cols\n",
    "    data_viz1 = data_viz1.groupby(cols).sum().reset_index()\n",
    "    data_viz1 = data_viz1.sort_values(by='order_year')\n",
    "    \n",
    "    return data_viz1"
   ]
  },
  {
   "cell_type": "code",
   "execution_count": 13,
   "id": "0eed5378-e45b-4b68-9703-c24329a4650d",
   "metadata": {},
   "outputs": [],
   "source": [
    "data_viz1_region = preprocess_scatter(combine, cols = ['Type', 'Key Account','Region'])"
   ]
  },
  {
   "cell_type": "code",
   "execution_count": 14,
   "id": "e0c39d5f-0ae5-475b-a70f-919308548649",
   "metadata": {},
   "outputs": [],
   "source": [
    "data_viz1_region.to_csv('data_viz1_region.csv',index=False)\n",
    "data_viz1_region.to_json('data_viz1_region.json', orient='records',index=False)"
   ]
  },
  {
   "cell_type": "code",
   "execution_count": 15,
   "id": "20b134ab-0adf-4af7-b599-21f4856fd245",
   "metadata": {
    "scrolled": true
   },
   "outputs": [],
   "source": [
    "data_viz1 = preprocess_scatter(combine, cols = ['Type', 'Key Account'])"
   ]
  },
  {
   "cell_type": "code",
   "execution_count": 16,
   "id": "5a3ae37b-346c-42c1-b539-82cbd187f509",
   "metadata": {},
   "outputs": [],
   "source": [
    "def calculate_growth(data_viz1,cols = ['Type', 'Key Account']):\n",
    "    # filter for 2 years\n",
    "    data_19 = data_viz1[data_viz1['order_year'] == 2019]\n",
    "    data_23 = data_viz1[data_viz1['order_year'] == 2023]\n",
    "\n",
    "    # join the years together\n",
    "    data_viz1 = data_23.drop('order_year',axis=1).merge(data_19.drop('order_year',axis=1), on = cols,suffixes=('_23', '_19'))\n",
    "    # calculate growth between the 2 yeaers\n",
    "    data_viz1['growth_tot'] = data_viz1['ProductPricesInCP_split_23']/data_viz1['ProductPricesInCP_split_19'] - 1\n",
    "\n",
    "    return data_viz1"
   ]
  },
  {
   "cell_type": "code",
   "execution_count": 17,
   "id": "6e683178-6248-49b2-9cf2-df8b20ee2ff5",
   "metadata": {},
   "outputs": [],
   "source": [
    "# Calculate 2023-2019 growth\n",
    "data_viz1 = calculate_growth(data_viz1,cols = ['Type', 'Key Account'])"
   ]
  },
  {
   "cell_type": "code",
   "execution_count": 18,
   "id": "13a1c7ce-22bf-41aa-bcfc-bd24e5171eb3",
   "metadata": {
    "scrolled": true
   },
   "outputs": [
    {
     "data": {
      "text/html": [
       "<div>\n",
       "<style scoped>\n",
       "    .dataframe tbody tr th:only-of-type {\n",
       "        vertical-align: middle;\n",
       "    }\n",
       "\n",
       "    .dataframe tbody tr th {\n",
       "        vertical-align: top;\n",
       "    }\n",
       "\n",
       "    .dataframe thead th {\n",
       "        text-align: right;\n",
       "    }\n",
       "</style>\n",
       "<table border=\"1\" class=\"dataframe\">\n",
       "  <thead>\n",
       "    <tr style=\"text-align: right;\">\n",
       "      <th></th>\n",
       "      <th>Type</th>\n",
       "      <th>Key Account</th>\n",
       "      <th>ProductPricesInCP_split_23</th>\n",
       "      <th>ProductPricesInCP_split_19</th>\n",
       "      <th>growth_tot</th>\n",
       "    </tr>\n",
       "  </thead>\n",
       "  <tbody>\n",
       "    <tr>\n",
       "      <th>0</th>\n",
       "      <td>TOOLS &amp; KITS</td>\n",
       "      <td>Bottle's Up</td>\n",
       "      <td>1275150.0</td>\n",
       "      <td>1258573.0</td>\n",
       "      <td>0.013171</td>\n",
       "    </tr>\n",
       "    <tr>\n",
       "      <th>1</th>\n",
       "      <td>TOOLS &amp; KITS</td>\n",
       "      <td>Night's Knights</td>\n",
       "      <td>1145674.0</td>\n",
       "      <td>1260854.0</td>\n",
       "      <td>-0.091351</td>\n",
       "    </tr>\n",
       "    <tr>\n",
       "      <th>2</th>\n",
       "      <td>TOOLS &amp; KITS</td>\n",
       "      <td>Order of the Gauntlet</td>\n",
       "      <td>912558.0</td>\n",
       "      <td>1066975.0</td>\n",
       "      <td>-0.144724</td>\n",
       "    </tr>\n",
       "    <tr>\n",
       "      <th>3</th>\n",
       "      <td>SUMMONING DEVICE</td>\n",
       "      <td>Three Wishes</td>\n",
       "      <td>517030.0</td>\n",
       "      <td>555780.0</td>\n",
       "      <td>-0.069722</td>\n",
       "    </tr>\n",
       "    <tr>\n",
       "      <th>4</th>\n",
       "      <td>TOOLS &amp; KITS</td>\n",
       "      <td>Private Buyer</td>\n",
       "      <td>6297244.0</td>\n",
       "      <td>6033068.0</td>\n",
       "      <td>0.043788</td>\n",
       "    </tr>\n",
       "  </tbody>\n",
       "</table>\n",
       "</div>"
      ],
      "text/plain": [
       "               Type            Key Account  ProductPricesInCP_split_23  \\\n",
       "0      TOOLS & KITS            Bottle's Up                   1275150.0   \n",
       "1      TOOLS & KITS        Night's Knights                   1145674.0   \n",
       "2      TOOLS & KITS  Order of the Gauntlet                    912558.0   \n",
       "3  SUMMONING DEVICE           Three Wishes                    517030.0   \n",
       "4      TOOLS & KITS          Private Buyer                   6297244.0   \n",
       "\n",
       "   ProductPricesInCP_split_19  growth_tot  \n",
       "0                   1258573.0    0.013171  \n",
       "1                   1260854.0   -0.091351  \n",
       "2                   1066975.0   -0.144724  \n",
       "3                    555780.0   -0.069722  \n",
       "4                   6033068.0    0.043788  "
      ]
     },
     "execution_count": 18,
     "metadata": {},
     "output_type": "execute_result"
    }
   ],
   "source": [
    "data_viz1.head()"
   ]
  },
  {
   "cell_type": "code",
   "execution_count": 19,
   "id": "17967615-ef04-46a1-a9a3-2f7261367371",
   "metadata": {},
   "outputs": [],
   "source": [
    "data_viz1.to_csv('data_viz1.csv',index=False)\n",
    "data_viz1.to_json('data_viz1.json', orient='records',index=False)"
   ]
  }
 ],
 "metadata": {
  "kernelspec": {
   "display_name": "Python 3 (ipykernel)",
   "language": "python",
   "name": "python3"
  },
  "language_info": {
   "codemirror_mode": {
    "name": "ipython",
    "version": 3
   },
   "file_extension": ".py",
   "mimetype": "text/x-python",
   "name": "python",
   "nbconvert_exporter": "python",
   "pygments_lexer": "ipython3",
   "version": "3.9.5"
  }
 },
 "nbformat": 4,
 "nbformat_minor": 5
}
